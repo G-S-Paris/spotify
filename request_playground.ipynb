{
 "metadata": {
  "language_info": {
   "codemirror_mode": {
    "name": "ipython",
    "version": 3
   },
   "file_extension": ".py",
   "mimetype": "text/x-python",
   "name": "python",
   "nbconvert_exporter": "python",
   "pygments_lexer": "ipython3",
   "version": "3.8.6-final"
  },
  "orig_nbformat": 2,
  "kernelspec": {
   "name": "python3",
   "display_name": "Python 3",
   "language": "python"
  }
 },
 "nbformat": 4,
 "nbformat_minor": 2,
 "cells": [
  {
   "cell_type": "code",
   "execution_count": 2,
   "metadata": {},
   "outputs": [
    {
     "output_type": "stream",
     "name": "stdout",
     "text": [
      "SPOTIPY_CLIENT_ID 08340d973d6f492782f10ce2f01fde6e\nSPOTIPY_CLIENT_SECRET d76f6ff499964258bb6494b6cbd5e70d\nSPOTIPY_REDIRECT_URI http://127.0.0.1:9090\nSPOTIPY_USER 1222656872\n"
     ]
    }
   ],
   "source": [
    "import os\n",
    "\n",
    "import spotipy\n",
    "from spotipy.oauth2 import SpotifyClientCredentials, SpotifyOAuth\n",
    "from spotipy.util import prompt_for_user_token\n",
    "from setup import setupEnv\n",
    "\n",
    "setupEnv()\n",
    "\n",
    "soa = SpotifyOAuth(\n",
    "    client_id=os.getenv(\"SPOTIPY_CLIENT_ID\"),\n",
    "    client_secret=os.getenv(\"SPOTIPY_CLIENT_SECRET\"),\n",
    "    redirect_uri=os.getenv(\"SPOTIPY_REDIRECT_URI\"),\n",
    "    username=os.getenv(\"SPOTIPY_USER\"),\n",
    "    scope=\"user-library-read\",\n",
    ")\n",
    "\n",
    "sp = spotipy.Spotify(auth_manager=soa)"
   ]
  },
  {
   "cell_type": "code",
   "execution_count": 3,
   "metadata": {
    "tags": []
   },
   "outputs": [
    {
     "output_type": "stream",
     "name": "stdout",
     "text": [
      "0 Moanin'\n1 Mingusings\n2 Haitian Fight Song\n3 Goodbye Pork Pie Hat\n4 Nostalgia in Times Square\n5 Better Git It in Your Soul\n6 Goodbye Pork Pie Hat\n7 Fables of Faubus\n8 Moanin'\n9 Elvira Fattigans sång (feat. Mingus)\n10 Mingus Samba\n11 Myself When I Am Real\n12 II B.S. - Edit\n13 Boogie Stop Shuffle\n14 Eat that Chicken (Paella)\n15 Haitian Fight Song\n16 Track A- Solo Dancer\n17 Fables of Faubus\n18 I Know What You Mingus\n19 Track B- Duete Solo Dancers\n"
     ]
    }
   ],
   "source": [
    "results = sp.search(q=\"Mingus\", limit=20)\n",
    "for idx, track in enumerate(results[\"tracks\"][\"items\"]):\n",
    "    print(idx, track[\"name\"])"
   ]
  },
  {
   "cell_type": "code",
   "execution_count": 13,
   "metadata": {},
   "outputs": [],
   "source": [
    "pl = sp.current_user_playlists()"
   ]
  },
  {
   "cell_type": "code",
   "execution_count": 5,
   "metadata": {},
   "outputs": [
    {
     "output_type": "execute_result",
     "data": {
      "text/plain": [
       "{'collaborative': False,\n",
       " 'description': '',\n",
       " 'external_urls': {'spotify': 'https://open.spotify.com/playlist/29dDNnxGWGuJYJyF5UuUaO'},\n",
       " 'href': 'https://api.spotify.com/v1/playlists/29dDNnxGWGuJYJyF5UuUaO',\n",
       " 'id': '29dDNnxGWGuJYJyF5UuUaO',\n",
       " 'images': [{'height': None,\n",
       "   'url': 'https://i.scdn.co/image/ab67706c0000bebb873b96e28607ad5907406c07',\n",
       "   'width': None}],\n",
       " 'name': 'Waxahatchee Complete Discography',\n",
       " 'owner': {'display_name': 'Waxahatchee',\n",
       "  'external_urls': {'spotify': 'https://open.spotify.com/user/waxahatchee'},\n",
       "  'href': 'https://api.spotify.com/v1/users/waxahatchee',\n",
       "  'id': 'waxahatchee',\n",
       "  'type': 'user',\n",
       "  'uri': 'spotify:user:waxahatchee'},\n",
       " 'primary_color': None,\n",
       " 'public': False,\n",
       " 'snapshot_id': 'MjYsNjIxMzUwN2IxNzNjOWNlZTQwZThiYzBhZDI3YmQ4YmNjMTQ5ZDY4NA==',\n",
       " 'tracks': {'href': 'https://api.spotify.com/v1/playlists/29dDNnxGWGuJYJyF5UuUaO/tracks',\n",
       "  'total': 63},\n",
       " 'type': 'playlist',\n",
       " 'uri': 'spotify:playlist:29dDNnxGWGuJYJyF5UuUaO'}"
      ]
     },
     "metadata": {},
     "execution_count": 5
    }
   ],
   "source": [
    "items = pl['items']\n",
    "items[0]"
   ]
  },
  {
   "cell_type": "code",
   "execution_count": 18,
   "metadata": {},
   "outputs": [
    {
     "output_type": "execute_result",
     "data": {
      "text/plain": [
       "dict_keys(['href', 'items', 'limit', 'next', 'offset', 'previous', 'total'])"
      ]
     },
     "metadata": {},
     "execution_count": 18
    }
   ],
   "source": [
    "pl.keys()"
   ]
  },
  {
   "cell_type": "code",
   "execution_count": 7,
   "metadata": {
    "tags": []
   },
   "outputs": [
    {
     "output_type": "execute_result",
     "data": {
      "text/plain": [
       "playlist_obj: 'Waxahatchee Complete Discography'"
      ]
     },
     "metadata": {},
     "execution_count": 7
    }
   ],
   "source": [
    "\n",
    "class objectview(object):\n",
    "    def __init__(self, d):\n",
    "        self.__dict__ = d\n",
    "        self.attributes = d.keys()\n",
    "    def __repr__(self):\n",
    "        return self.type+\"_obj: '\"+self.name+\"'\"\n",
    "\n",
    "plo = objectview(items[0])\n",
    "plo"
   ]
  },
  {
   "cell_type": "code",
   "execution_count": 10,
   "metadata": {},
   "outputs": [
    {
     "output_type": "execute_result",
     "data": {
      "text/plain": [
       "50"
      ]
     },
     "metadata": {},
     "execution_count": 10
    }
   ],
   "source": [
    "pl_olist = [ objectview(i) for i in items]\n",
    "len(pl_olist)"
   ]
  },
  {
   "cell_type": "code",
   "execution_count": 28,
   "metadata": {
    "tags": [
     "outputPrepend"
    ]
   },
   "outputs": [
    {
     "output_type": "stream",
     "name": "stdout",
     "text": [
      "000b27308a9f2ae15587fa3da702ba0ab67616d0000b2733042a878fe015b7103f136f1ab67616d0000b273b1afcb2e8a9748c154b8beb2ab67616d0000b273dbf9be72314f647bac0c485b', 'width': 300}, {'height': 60, 'url': 'https://mosaic.scdn.co/60/ab67616d0000b27308a9f2ae15587fa3da702ba0ab67616d0000b2733042a878fe015b7103f136f1ab67616d0000b273b1afcb2e8a9748c154b8beb2ab67616d0000b273dbf9be72314f647bac0c485b', 'width': 60}], 'name': 'DAD JAMS', 'owner': {'display_name': 'parquetcourts', 'external_urls': {'spotify': 'https://open.spotify.com/user/parquetcourts'}, 'href': 'https://api.spotify.com/v1/users/parquetcourts', 'id': 'parquetcourts', 'type': 'user', 'uri': 'spotify:user:parquetcourts'}, 'primary_color': None, 'public': False, 'snapshot_id': 'OSw3ZjM1YjM1NzhmNjg4ODRhY2NlMmQ2OGUzOGViZWY3OTliYWM3NmJi', 'tracks': {'href': 'https://api.spotify.com/v1/playlists/6snqrZthPV7coEa9quOqlF/tracks', 'total': 46}, 'type': 'playlist', 'uri': 'spotify:playlist:6snqrZthPV7coEa9quOqlF', 'attributes': dict_keys(['collaborative', 'description', 'external_urls', 'href', 'id', 'images', 'name', 'owner', 'primary_color', 'public', 'snapshot_id', 'tracks', 'type', 'uri', 'attributes'])}\n{'collaborative': False, 'description': '', 'external_urls': {'spotify': 'https://open.spotify.com/playlist/66MTfHU4duc8Fw0zipsk0w'}, 'href': 'https://api.spotify.com/v1/playlists/66MTfHU4duc8Fw0zipsk0w', 'id': '66MTfHU4duc8Fw0zipsk0w', 'images': [{'height': 640, 'url': 'https://mosaic.scdn.co/640/ab67616d0000b273284da4f9a283b95eab75b80aab67616d0000b2734adf63552da99cb3275c2655ab67616d0000b2737a7b3839e87cbfe2f7de3aa6ab67616d0000b2738e33d436df0a1998c8961821', 'width': 640}, {'height': 300, 'url': 'https://mosaic.scdn.co/300/ab67616d0000b273284da4f9a283b95eab75b80aab67616d0000b2734adf63552da99cb3275c2655ab67616d0000b2737a7b3839e87cbfe2f7de3aa6ab67616d0000b2738e33d436df0a1998c8961821', 'width': 300}, {'height': 60, 'url': 'https://mosaic.scdn.co/60/ab67616d0000b273284da4f9a283b95eab75b80aab67616d0000b2734adf63552da99cb3275c2655ab67616d0000b2737a7b3839e87cbfe2f7de3aa6ab67616d0000b2738e33d436df0a1998c8961821', 'width': 60}], 'name': 'Girl Band Discography', 'owner': {'display_name': 'Alan Duggan', 'external_urls': {'spotify': 'https://open.spotify.com/user/adlug'}, 'href': 'https://api.spotify.com/v1/users/adlug', 'id': 'adlug', 'type': 'user', 'uri': 'spotify:user:adlug'}, 'primary_color': None, 'public': False, 'snapshot_id': 'MzAsOTg2YTgyY2JiODJjMjM0NjVhYTA5OWY4ZGM3OTRkNTJjNzk0NWUyNw==', 'tracks': {'href': 'https://api.spotify.com/v1/playlists/66MTfHU4duc8Fw0zipsk0w/tracks', 'total': 15}, 'type': 'playlist', 'uri': 'spotify:playlist:66MTfHU4duc8Fw0zipsk0w', 'attributes': dict_keys(['collaborative', 'description', 'external_urls', 'href', 'id', 'images', 'name', 'owner', 'primary_color', 'public', 'snapshot_id', 'tracks', 'type', 'uri', 'attributes'])}\n{'collaborative': False, 'description': 'Follow our playlist for more new music. Our latest album, Devour You is out now! ', 'external_urls': {'spotify': 'https://open.spotify.com/playlist/1tqYtDM5k3CI6fi1GQdMCY'}, 'href': 'https://api.spotify.com/v1/playlists/1tqYtDM5k3CI6fi1GQdMCY', 'id': '1tqYtDM5k3CI6fi1GQdMCY', 'images': [{'height': None, 'url': 'https://i.scdn.co/image/ab67706c0000bebbb7440a1baa837eb654d11c6e', 'width': None}], 'name': 'This Is Starcrawler', 'owner': {'display_name': 'Starcrawler', 'external_urls': {'spotify': 'https://open.spotify.com/user/fxwo7s58r345x8awhs0hz2a2g'}, 'href': 'https://api.spotify.com/v1/users/fxwo7s58r345x8awhs0hz2a2g', 'id': 'fxwo7s58r345x8awhs0hz2a2g', 'type': 'user', 'uri': 'spotify:user:fxwo7s58r345x8awhs0hz2a2g'}, 'primary_color': None, 'public': False, 'snapshot_id': 'MjgsMTRhNjY1YjM2OWRjYjM5NjM2MWUxNjQzZWJiZDk1ZTg2MjA0ZTRiOA==', 'tracks': {'href': 'https://api.spotify.com/v1/playlists/1tqYtDM5k3CI6fi1GQdMCY/tracks', 'total': 26}, 'type': 'playlist', 'uri': 'spotify:playlist:1tqYtDM5k3CI6fi1GQdMCY', 'attributes': dict_keys(['collaborative', 'description', 'external_urls', 'href', 'id', 'images', 'name', 'owner', 'primary_color', 'public', 'snapshot_id', 'tracks', 'type', 'uri', 'attributes'])}\n{'collaborative': False, 'description': 'A playlist by A.Savage of Parquet Courts', 'external_urls': {'spotify': 'https://open.spotify.com/playlist/6NwjBZag5dq1HZPIOcAWnK'}, 'href': 'https://api.spotify.com/v1/playlists/6NwjBZag5dq1HZPIOcAWnK', 'id': '6NwjBZag5dq1HZPIOcAWnK', 'images': [{'height': None, 'url': 'https://i.scdn.co/image/ab67706c0000bebb4136f437326372b09ab1a8e5', 'width': None}], 'name': \"I'm Wide Awake!\", 'owner': {'display_name': 'parquetcourts', 'external_urls': {'spotify': 'https://open.spotify.com/user/parquetcourts'}, 'href': 'https://api.spotify.com/v1/users/parquetcourts', 'id': 'parquetcourts', 'type': 'user', 'uri': 'spotify:user:parquetcourts'}, 'primary_color': None, 'public': False, 'snapshot_id': 'NDYsZjQzZTljNjIxMGFmMDRjNDA1MTU5MmVjZDk2YjNkYjg1MzY0NTljYg==', 'tracks': {'href': 'https://api.spotify.com/v1/playlists/6NwjBZag5dq1HZPIOcAWnK/tracks', 'total': 19}, 'type': 'playlist', 'uri': 'spotify:playlist:6NwjBZag5dq1HZPIOcAWnK', 'attributes': dict_keys(['collaborative', 'description', 'external_urls', 'href', 'id', 'images', 'name', 'owner', 'primary_color', 'public', 'snapshot_id', 'tracks', 'type', 'uri', 'attributes'])}\n{'collaborative': False, 'description': 'A playlist by Max Savage of Parquet Courts', 'external_urls': {'spotify': 'https://open.spotify.com/playlist/5SAbFIDXb2z9D0qHxQ9tqK'}, 'href': 'https://api.spotify.com/v1/playlists/5SAbFIDXb2z9D0qHxQ9tqK', 'id': '5SAbFIDXb2z9D0qHxQ9tqK', 'images': [{'height': 640, 'url': 'https://mosaic.scdn.co/640/ab67616d0000b273297dd2e5a0e6f916364eddc8ab67616d0000b273a7ea08ab3914c5fb2084a8acab67616d0000b273c3cb4969e8a8e9c9d604bf89ab67616d0000b273dae82a57e7385bc847f9f495', 'width': 640}, {'height': 300, 'url': 'https://mosaic.scdn.co/300/ab67616d0000b273297dd2e5a0e6f916364eddc8ab67616d0000b273a7ea08ab3914c5fb2084a8acab67616d0000b273c3cb4969e8a8e9c9d604bf89ab67616d0000b273dae82a57e7385bc847f9f495', 'width': 300}, {'height': 60, 'url': 'https://mosaic.scdn.co/60/ab67616d0000b273297dd2e5a0e6f916364eddc8ab67616d0000b273a7ea08ab3914c5fb2084a8acab67616d0000b273c3cb4969e8a8e9c9d604bf89ab67616d0000b273dae82a57e7385bc847f9f495', 'width': 60}], 'name': 'New York Classics', 'owner': {'display_name': 'parquetcourts', 'external_urls': {'spotify': 'https://open.spotify.com/user/parquetcourts'}, 'href': 'https://api.spotify.com/v1/users/parquetcourts', 'id': 'parquetcourts', 'type': 'user', 'uri': 'spotify:user:parquetcourts'}, 'primary_color': None, 'public': False, 'snapshot_id': 'MzAsODIzNjIwNDk4ODY0YzRlZGVlYzVjODY3YzMzMjk3YzI1ZWUzYzJmMQ==', 'tracks': {'href': 'https://api.spotify.com/v1/playlists/5SAbFIDXb2z9D0qHxQ9tqK/tracks', 'total': 18}, 'type': 'playlist', 'uri': 'spotify:playlist:5SAbFIDXb2z9D0qHxQ9tqK', 'attributes': dict_keys(['collaborative', 'description', 'external_urls', 'href', 'id', 'images', 'name', 'owner', 'primary_color', 'public', 'snapshot_id', 'tracks', 'type', 'uri', 'attributes'])}\n{'collaborative': False, 'description': 'A playlist by Austin Brown of Parquet Courts.', 'external_urls': {'spotify': 'https://open.spotify.com/playlist/1fBq3h9IxTcrQPx9PWk0XJ'}, 'href': 'https://api.spotify.com/v1/playlists/1fBq3h9IxTcrQPx9PWk0XJ', 'id': '1fBq3h9IxTcrQPx9PWk0XJ', 'images': [{'height': None, 'url': 'https://i.scdn.co/image/ab67706c0000bebb932230b3df652d62b442df76', 'width': None}], 'name': '6:AM Still Wide Awake', 'owner': {'display_name': 'parquetcourts', 'external_urls': {'spotify': 'https://open.spotify.com/user/parquetcourts'}, 'href': 'https://api.spotify.com/v1/users/parquetcourts', 'id': 'parquetcourts', 'type': 'user', 'uri': 'spotify:user:parquetcourts'}, 'primary_color': None, 'public': False, 'snapshot_id': 'NjMsODZkZGY2M2MwODlmYmQ0MzQ3NjQwMmE3OTA3ZWRjOGJlZDUwMWNiZg==', 'tracks': {'href': 'https://api.spotify.com/v1/playlists/1fBq3h9IxTcrQPx9PWk0XJ/tracks', 'total': 22}, 'type': 'playlist', 'uri': 'spotify:playlist:1fBq3h9IxTcrQPx9PWk0XJ', 'attributes': dict_keys(['collaborative', 'description', 'external_urls', 'href', 'id', 'images', 'name', 'owner', 'primary_color', 'public', 'snapshot_id', 'tracks', 'type', 'uri', 'attributes'])}\n{'collaborative': False, 'description': 'Nevermind the darkness, my friends. A playlist by Sean Yeaton of Parquet Courts.', 'external_urls': {'spotify': 'https://open.spotify.com/playlist/21JKPZitQKlzKKGvLnQUQK'}, 'href': 'https://api.spotify.com/v1/playlists/21JKPZitQKlzKKGvLnQUQK', 'id': '21JKPZitQKlzKKGvLnQUQK', 'images': [{'height': None, 'url': 'https://i.scdn.co/image/ab67706c0000bebb63800fc135a427ffb661e48c', 'width': None}], 'name': 'Provided by the Management for Your Protection', 'owner': {'display_name': 'parquetcourts', 'external_urls': {'spotify': 'https://open.spotify.com/user/parquetcourts'}, 'href': 'https://api.spotify.com/v1/users/parquetcourts', 'id': 'parquetcourts', 'type': 'user', 'uri': 'spotify:user:parquetcourts'}, 'primary_color': None, 'public': False, 'snapshot_id': 'MzgsNzBkNDEzMTQyOGVhNjFjZGIzZDA2NDg0ZDJhOTFiMGMwMTYyNDA1Mw==', 'tracks': {'href': 'https://api.spotify.com/v1/playlists/21JKPZitQKlzKKGvLnQUQK/tracks', 'total': 42}, 'type': 'playlist', 'uri': 'spotify:playlist:21JKPZitQKlzKKGvLnQUQK', 'attributes': dict_keys(['collaborative', 'description', 'external_urls', 'href', 'id', 'images', 'name', 'owner', 'primary_color', 'public', 'snapshot_id', 'tracks', 'type', 'uri', 'attributes'])}\n{'collaborative': False, 'description': 'A Houston Rap playlist by Austin Brown of Parquet Courts. Buy/stream &quot;Captive Of The Sun (ft. Bun B)&quot; + &quot;Captive Of The Sun (Chopped Not Slopped Mix)&quot;: <a href=\"http://smarturl.it/CaptiveSun_BunB_12\">here</a>', 'external_urls': {'spotify': 'https://open.spotify.com/playlist/6rVJSBYd4tSjDlIqvXOZrx'}, 'href': 'https://api.spotify.com/v1/playlists/6rVJSBYd4tSjDlIqvXOZrx', 'id': '6rVJSBYd4tSjDlIqvXOZrx', 'images': [{'height': None, 'url': 'https://i.scdn.co/image/ab67706c0000bebbca4f632475a42c7b39f4eb42', 'width': None}], 'name': 'Young Doc Gooden presents Nice and Slow', 'owner': {'display_name': 'parquetcourts', 'external_urls': {'spotify': 'https://open.spotify.com/user/parquetcourts'}, 'href': 'https://api.spotify.com/v1/users/parquetcourts', 'id': 'parquetcourts', 'type': 'user', 'uri': 'spotify:user:parquetcourts'}, 'primary_color': None, 'public': False, 'snapshot_id': 'NyxhYzlkNTliMjk2MmEzZjZhYjEwYTM0OThkYzg3N2NiOTQ0ZDQxNTYx', 'tracks': {'href': 'https://api.spotify.com/v1/playlists/6rVJSBYd4tSjDlIqvXOZrx/tracks', 'total': 15}, 'type': 'playlist', 'uri': 'spotify:playlist:6rVJSBYd4tSjDlIqvXOZrx', 'attributes': dict_keys(['collaborative', 'description', 'external_urls', 'href', 'id', 'images', 'name', 'owner', 'primary_color', 'public', 'snapshot_id', 'tracks', 'type', 'uri', 'attributes'])}\n{'collaborative': False, 'description': 'All the artists to watch for 2021, handpicked by our curators. Featuring Flo Milli on the cover.', 'external_urls': {'spotify': 'https://open.spotify.com/playlist/37i9dQZF1DWY0DyDKedRYY'}, 'href': 'https://api.spotify.com/v1/playlists/37i9dQZF1DWY0DyDKedRYY', 'id': '37i9dQZF1DWY0DyDKedRYY', 'images': [{'height': None, 'url': 'https://i.scdn.co/image/ab67706f00000003848d7138aea9b45ef23afe73', 'width': None}], 'name': 'RADAR US: Artists to Watch 2021', 'owner': {'display_name': 'Spotify', 'external_urls': {'spotify': 'https://open.spotify.com/user/spotify'}, 'href': 'https://api.spotify.com/v1/users/spotify', 'id': 'spotify', 'type': 'user', 'uri': 'spotify:user:spotify'}, 'primary_color': None, 'public': False, 'snapshot_id': 'MTYwNjg0MzMwOSwwMDAwMDAyYjAwMDAwMTc2MWY1MzFlYjgwMDAwMDE3NjFhNjVjMjY5', 'tracks': {'href': 'https://api.spotify.com/v1/playlists/37i9dQZF1DWY0DyDKedRYY/tracks', 'total': 77}, 'type': 'playlist', 'uri': 'spotify:playlist:37i9dQZF1DWY0DyDKedRYY', 'attributes': dict_keys(['collaborative', 'description', 'external_urls', 'href', 'id', 'images', 'name', 'owner', 'primary_color', 'public', 'snapshot_id', 'tracks', 'type', 'uri', 'attributes'])}\n{'collaborative': False, 'description': '', 'external_urls': {'spotify': 'https://open.spotify.com/playlist/0h068VlLNYMlaOgocyc8mr'}, 'href': 'https://api.spotify.com/v1/playlists/0h068VlLNYMlaOgocyc8mr', 'id': '0h068VlLNYMlaOgocyc8mr', 'images': [{'height': 640, 'url': 'https://i.scdn.co/image/ab67616d0000b2730546bc812f5a6609f062b828', 'width': 640}], 'name': 'blade runner but its only the mood', 'owner': {'display_name': 'Greyson Paris', 'external_urls': {'spotify': 'https://open.spotify.com/user/1222656872'}, 'href': 'https://api.spotify.com/v1/users/1222656872', 'id': '1222656872', 'type': 'user', 'uri': 'spotify:user:1222656872'}, 'primary_color': None, 'public': False, 'snapshot_id': 'OCw0NTk1ODc1ZmQyN2I4MGRmYjNjM2E3NDQ2NWM1YWJlYWZjMWNiNTg4', 'tracks': {'href': 'https://api.spotify.com/v1/playlists/0h068VlLNYMlaOgocyc8mr/tracks', 'total': 19}, 'type': 'playlist', 'uri': 'spotify:playlist:0h068VlLNYMlaOgocyc8mr', 'attributes': dict_keys(['collaborative', 'description', 'external_urls', 'href', 'id', 'images', 'name', 'owner', 'primary_color', 'public', 'snapshot_id', 'tracks', 'type', 'uri', 'attributes'])}\n{'collaborative': True, 'description': '', 'external_urls': {'spotify': 'https://open.spotify.com/playlist/0b4mVcx93SLLwlk3t68CU2'}, 'href': 'https://api.spotify.com/v1/playlists/0b4mVcx93SLLwlk3t68CU2', 'id': '0b4mVcx93SLLwlk3t68CU2', 'images': [{'height': None, 'url': 'https://i.scdn.co/image/ab67706c0000bebb484103eeaab4ac8be34e1118', 'width': None}], 'name': 'SUUUUUPERFRANKYY', 'owner': {'display_name': 'Greyson Paris', 'external_urls': {'spotify': 'https://open.spotify.com/user/1222656872'}, 'href': 'https://api.spotify.com/v1/users/1222656872', 'id': '1222656872', 'type': 'user', 'uri': 'spotify:user:1222656872'}, 'primary_color': None, 'public': False, 'snapshot_id': 'MTIxLDA3Zjg5YTY2NTg3MTI0MTg4YjU0OTJmZmFhMWFhYjBjMjNlNjg2ZDQ=', 'tracks': {'href': 'https://api.spotify.com/v1/playlists/0b4mVcx93SLLwlk3t68CU2/tracks', 'total': 136}, 'type': 'playlist', 'uri': 'spotify:playlist:0b4mVcx93SLLwlk3t68CU2', 'attributes': dict_keys(['collaborative', 'description', 'external_urls', 'href', 'id', 'images', 'name', 'owner', 'primary_color', 'public', 'snapshot_id', 'tracks', 'type', 'uri', 'attributes'])}\n{'collaborative': False, 'description': 'Protest&#x2F; Workers Rights &#x2F; Coal Miner &#x2F; Union Songs', 'external_urls': {'spotify': 'https://open.spotify.com/playlist/47LEfNPVz00tiXCxTLeFy2'}, 'href': 'https://api.spotify.com/v1/playlists/47LEfNPVz00tiXCxTLeFy2', 'id': '47LEfNPVz00tiXCxTLeFy2', 'images': [{'height': 640, 'url': 'https://mosaic.scdn.co/640/ab67616d0000b2733c24bb6d814d90120ec82b8fab67616d0000b2734075b24298906bf0e82cbe8dab67616d0000b273695b6d412b44d030796e9d66ab67616d0000b2738daf377b290d336e242b36f7', 'width': 640}, {'height': 300, 'url': 'https://mosaic.scdn.co/300/ab67616d0000b2733c24bb6d814d90120ec82b8fab67616d0000b2734075b24298906bf0e82cbe8dab67616d0000b273695b6d412b44d030796e9d66ab67616d0000b2738daf377b290d336e242b36f7', 'width': 300}, {'height': 60, 'url': 'https://mosaic.scdn.co/60/ab67616d0000b2733c24bb6d814d90120ec82b8fab67616d0000b2734075b24298906bf0e82cbe8dab67616d0000b273695b6d412b44d030796e9d66ab67616d0000b2738daf377b290d336e242b36f7', 'width': 60}], 'name': 'Sexy Time', 'owner': {'display_name': 'Jamie Alice', 'external_urls': {'spotify': 'https://open.spotify.com/user/12141438195'}, 'href': 'https://api.spotify.com/v1/users/12141438195', 'id': '12141438195', 'type': 'user', 'uri': 'spotify:user:12141438195'}, 'primary_color': None, 'public': False, 'snapshot_id': 'MjM0LDIwOWM0YTJjNTc2NGVjZTBhYzYyODZlZGY5MTY0NzBkMzUzYTUwYmU=', 'tracks': {'href': 'https://api.spotify.com/v1/playlists/47LEfNPVz00tiXCxTLeFy2/tracks', 'total': 228}, 'type': 'playlist', 'uri': 'spotify:playlist:47LEfNPVz00tiXCxTLeFy2', 'attributes': dict_keys(['collaborative', 'description', 'external_urls', 'href', 'id', 'images', 'name', 'owner', 'primary_color', 'public', 'snapshot_id', 'tracks', 'type', 'uri', 'attributes'])}\n{'collaborative': False, 'description': '', 'external_urls': {'spotify': 'https://open.spotify.com/playlist/2ZFSYwS8SYP0ZNt2NXfuNq'}, 'href': 'https://api.spotify.com/v1/playlists/2ZFSYwS8SYP0ZNt2NXfuNq', 'id': '2ZFSYwS8SYP0ZNt2NXfuNq', 'images': [{'height': 640, 'url': 'https://i.scdn.co/image/ab67616d0000b2734c71fabf768a0623f44fa352', 'width': 640}], 'name': 'uhhh got a flow for this?', 'owner': {'display_name': 'Greyson Paris', 'external_urls': {'spotify': 'https://open.spotify.com/user/1222656872'}, 'href': 'https://api.spotify.com/v1/users/1222656872', 'id': '1222656872', 'type': 'user', 'uri': 'spotify:user:1222656872'}, 'primary_color': None, 'public': False, 'snapshot_id': 'MyxiNjVkNzRjZjNjMmZhZTc1OTdmMTU3NjAxODhjZGNiOGEyMTc0NDYz', 'tracks': {'href': 'https://api.spotify.com/v1/playlists/2ZFSYwS8SYP0ZNt2NXfuNq/tracks', 'total': 1}, 'type': 'playlist', 'uri': 'spotify:playlist:2ZFSYwS8SYP0ZNt2NXfuNq', 'attributes': dict_keys(['collaborative', 'description', 'external_urls', 'href', 'id', 'images', 'name', 'owner', 'primary_color', 'public', 'snapshot_id', 'tracks', 'type', 'uri', 'attributes'])}\n{'collaborative': False, 'description': 'not loud enough', 'external_urls': {'spotify': 'https://open.spotify.com/playlist/0wZaI5A6gf8Bq6EeakxZro'}, 'href': 'https://api.spotify.com/v1/playlists/0wZaI5A6gf8Bq6EeakxZro', 'id': '0wZaI5A6gf8Bq6EeakxZro', 'images': [{'height': 640, 'url': 'https://mosaic.scdn.co/640/ab67616d0000b27323ef2e018a0f355bbc217bc8ab67616d0000b273c901c8b6c819d24b6089fd53ab67616d0000b273da5e2fc014900836d430ea6bab67616d0000b273f41a9cc378b79998f54dcfce', 'width': 640}, {'height': 300, 'url': 'https://mosaic.scdn.co/300/ab67616d0000b27323ef2e018a0f355bbc217bc8ab67616d0000b273c901c8b6c819d24b6089fd53ab67616d0000b273da5e2fc014900836d430ea6bab67616d0000b273f41a9cc378b79998f54dcfce', 'width': 300}, {'height': 60, 'url': 'https://mosaic.scdn.co/60/ab67616d0000b27323ef2e018a0f355bbc217bc8ab67616d0000b273c901c8b6c819d24b6089fd53ab67616d0000b273da5e2fc014900836d430ea6bab67616d0000b273f41a9cc378b79998f54dcfce', 'width': 60}], 'name': '11', 'owner': {'display_name': 'Greyson Paris', 'external_urls': {'spotify': 'https://open.spotify.com/user/1222656872'}, 'href': 'https://api.spotify.com/v1/users/1222656872', 'id': '1222656872', 'type': 'user', 'uri': 'spotify:user:1222656872'}, 'primary_color': None, 'public': False, 'snapshot_id': 'MTMsM2U5NTQ4NTI3ZmRjYTgxYjM0Mzk0ZmZhM2UwYTIyMTE4ZDlkZmI3OA==', 'tracks': {'href': 'https://api.spotify.com/v1/playlists/0wZaI5A6gf8Bq6EeakxZro/tracks', 'total': 6}, 'type': 'playlist', 'uri': 'spotify:playlist:0wZaI5A6gf8Bq6EeakxZro', 'attributes': dict_keys(['collaborative', 'description', 'external_urls', 'href', 'id', 'images', 'name', 'owner', 'primary_color', 'public', 'snapshot_id', 'tracks', 'type', 'uri', 'attributes'])}\n{'collaborative': False, 'description': 'Irish Folk, Rebs and Modern.', 'external_urls': {'spotify': 'https://open.spotify.com/playlist/2hC1ZNvfB0zulYyzlvNQ9s'}, 'href': 'https://api.spotify.com/v1/playlists/2hC1ZNvfB0zulYyzlvNQ9s', 'id': '2hC1ZNvfB0zulYyzlvNQ9s', 'images': [{'height': None, 'url': 'https://i.scdn.co/image/ab67706c0000bebb80e27f031a8b3dddc940f3eb', 'width': None}], 'name': 'Irish Rebel Playlist', 'owner': {'display_name': 'Frankie Quail', 'external_urls': {'spotify': 'https://open.spotify.com/user/frankieq107'}, 'href': 'https://api.spotify.com/v1/users/frankieq107', 'id': 'frankieq107', 'type': 'user', 'uri': 'spotify:user:frankieq107'}, 'primary_color': None, 'public': False, 'snapshot_id': 'MzU1LDI2MmY4ODAxNzkzMjQ2ZDk5N2JhZGM5MWI5ZDhhZjUyOTM3ZDQyNTk=', 'tracks': {'href': 'https://api.spotify.com/v1/playlists/2hC1ZNvfB0zulYyzlvNQ9s/tracks', 'total': 236}, 'type': 'playlist', 'uri': 'spotify:playlist:2hC1ZNvfB0zulYyzlvNQ9s', 'attributes': dict_keys(['collaborative', 'description', 'external_urls', 'href', 'id', 'images', 'name', 'owner', 'primary_color', 'public', 'snapshot_id', 'tracks', 'type', 'uri', 'attributes'])}\n"
     ]
    }
   ],
   "source": [
    "for plo in pl_olist:\n",
    "#    print( \"name: {} \\ndesc: {} \\nntracks: {} \\n\".format( plo.name, plo.description, plo.tracks['total'])\n",
    "    print(plo.__dict__ )\n"
   ]
  },
  {
   "cell_type": "code",
   "execution_count": null,
   "metadata": {},
   "outputs": [],
   "source": [
    "import functools as ft\n",
    "\n",
    "pl_olist"
   ]
  }
 ]
}